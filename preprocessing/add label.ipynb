{
 "cells": [
  {
   "cell_type": "code",
   "execution_count": null,
   "metadata": {},
   "outputs": [],
   "source": [
    "import pandas as pd\n",
    "\n",
    "# Read the Excel files\n",
    "cluster_df = pd.read_excel('cluster.xlsx')\n",
    "seq_df = pd.read_excel('seq.xlsx')\n",
    "\n",
    "# Create a dictionary from the cluster dataframe for quick lookup\n",
    "sequence_to_label = dict(zip(cluster_df['sequence'], cluster_df['label']))\n",
    "\n",
    "# Add a new column 'label' to seq_df by mapping the 'sequence' column to the sequence_to_label dictionary\n",
    "seq_df['label'] = seq_df['sequence'].map(sequence_to_label)\n",
    "\n",
    "# Save the updated seq_df to a new Excel file\n",
    "seq_df.to_excel('updated_seq.xlsx', index=False)\n",
    "\n",
    "print(\"Labels added and saved to 'updated_seq.xlsx'\")\n"
   ]
  }
 ],
 "metadata": {
  "language_info": {
   "name": "python"
  }
 },
 "nbformat": 4,
 "nbformat_minor": 2
}
